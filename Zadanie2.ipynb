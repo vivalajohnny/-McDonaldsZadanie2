{
 "cells": [
  {
   "cell_type": "code",
   "execution_count": null,
   "metadata": {},
   "outputs": [],
   "source": [
    "'''\n",
    "Задача: выполнить кластеризацию магазинов, описать результаты кластеризации.\n",
    "'''"
   ]
  },
  {
   "cell_type": "code",
   "execution_count": 204,
   "metadata": {},
   "outputs": [
    {
     "name": "stdout",
     "output_type": "stream",
     "text": [
      "     Store               Status Opening_Date  Square  Assortment_width  \\\n",
      "0        1               Opened   2015-07-03  1047.0            7773.0   \n",
      "1        2               Opened   2015-06-17  1005.0            8080.0   \n",
      "2        3               Opened   2007-05-31   932.0            7327.0   \n",
      "3        4               Opened   2015-06-22   789.0            6508.0   \n",
      "4        5               Opened   2015-06-01  1067.0            8147.0   \n",
      "..     ...                  ...          ...     ...               ...   \n",
      "114    115               Opened   2016-03-23  1092.0            5842.0   \n",
      "115    116  Will be opened soon   2016-04-04   968.0            6033.0   \n",
      "116    117               Opened   2016-02-15   900.0            6537.0   \n",
      "117    118               Opened   2016-03-19   940.0            5552.0   \n",
      "118    119               Opened   2016-03-24  1160.0            6660.0   \n",
      "\n",
      "      Latitude  Longitude License  Alco_Forbid  Tobacco_Forbid  \\\n",
      "0    62.089544  42.995538       X          NaN             NaN   \n",
      "1    62.353845  43.187782       X          NaN             NaN   \n",
      "2    62.377145  43.134820       X          NaN             NaN   \n",
      "3    62.490032  42.988220       X          NaN             NaN   \n",
      "4    62.491562  42.972590       X          NaN             NaN   \n",
      "..         ...        ...     ...          ...             ...   \n",
      "114  62.321422  43.117966       X          NaN             1.0   \n",
      "115  62.068788  43.677864       X          NaN             NaN   \n",
      "116  62.087642  42.535781       X          NaN             NaN   \n",
      "117  61.815118  42.648026       X          NaN             NaN   \n",
      "118  61.664274  42.738209       X          NaN             NaN   \n",
      "\n",
      "     Competition_lvl  \n",
      "0                NaN  \n",
      "1                NaN  \n",
      "2                NaN  \n",
      "3                1.0  \n",
      "4                1.0  \n",
      "..               ...  \n",
      "114              1.0  \n",
      "115              NaN  \n",
      "116              1.0  \n",
      "117              1.0  \n",
      "118              1.0  \n",
      "\n",
      "[119 rows x 11 columns]\n"
     ]
    }
   ],
   "source": [
    "import pandas as pd\n",
    "\n",
    "\n",
    "# Откроем данные\n",
    "sales_data = pd.read_excel('CL_Data.xlsx', sheet_name='Sales_Data')\n",
    "store_data = pd.read_excel('CL_Data.xlsx', sheet_name='Store_Data')\n",
    "print(store_data)"
   ]
  },
  {
   "cell_type": "code",
   "execution_count": 208,
   "metadata": {},
   "outputs": [
    {
     "name": "stdout",
     "output_type": "stream",
     "text": [
      "   Store       Date  Quantity_sold  Revenue  Num_of_soc_SKU  Num_of_promo_SKU  \\\n",
      "0      1 2016-02-01             27  4240.21               1                13   \n",
      "1      1 2016-02-01              3   188.02               1                 0   \n",
      "2      1 2016-02-01              0     0.00               1                 2   \n",
      "3      1 2016-02-01             43  7700.36               1                 2   \n",
      "4      1 2016-02-01              0     0.00               1                 3   \n",
      "\n",
      "   Lvl1                 Lvl2    Lvl3  Num_of_SKU_in_lvl  \n",
      "0  ROOT  Алкольная продукция  Вина_1                190  \n",
      "1  ROOT  Алкольная продукция  Вина_2                  7  \n",
      "2  ROOT  Алкольная продукция  Вина_3                 22  \n",
      "3  ROOT  Алкольная продукция   Водка                 80  \n",
      "4  ROOT  Алкольная продукция  Коньяк                 44  \n"
     ]
    }
   ],
   "source": [
    "# Даты - 01-02-2016 - 30-04-2016 (3 месяца)\n",
    "# Магазинов предствлено в сейлс_дата - 103\n",
    "\n",
    "print(sales_data.head(5))\n",
    "\n",
    "# + или - справа от фичи означают её полезность.\n",
    "# - Наиболее продаваемая Lvl2 категория -\n",
    "# - Наиболее продаваемая Lvl3 категория +\n",
    "# - Средний (за три месяца) доход на квадрат (в месяц) +\n",
    "# - Сколько дней работает магазин с открытия +\n",
    "# - Самая представленная Lvl3 категория (можно будет сравнить с самой продаваемой Lvl3 и выделить еще фичу) -\n",
    "# - Можно попробовать выделить фичу - процент экономных/транжир среди покупателей +\n",
    "# - Фича - магазины рядом (например, [2, 4, 7]. Можно использовать при формировании ассортимента близлежащих\n",
    "# магазинов)"
   ]
  },
  {
   "cell_type": "code",
   "execution_count": 209,
   "metadata": {},
   "outputs": [
    {
     "name": "stdout",
     "output_type": "stream",
     "text": [
      "Store 1: Бакалейные товары\n"
     ]
    }
   ],
   "source": [
    "# Наиболее продаваемая Lvl2 категория (Во всех магазинах это бакалейные товары. Фича не имеет смысла)\n",
    "lvl2 = sales_data[['Store', 'Lvl2', 'Revenue']].groupby(['Store', 'Lvl2']).sum()\n",
    "lvl2 = lvl2.sort_values(by=['Store', 'Revenue'])\n",
    "\n",
    "for i in sales_data['Store'].unique():\n",
    "    # Вытаскиваем самую продаваемую категорию\n",
    "    print('Store {0}: {1}'.format(i, lvl2.loc[lvl2['Revenue'] == lvl2.loc[i]['Revenue'].max()].index[0][1]))\n",
    "    break"
   ]
  },
  {
   "cell_type": "code",
   "execution_count": 210,
   "metadata": {},
   "outputs": [
    {
     "name": "stdout",
     "output_type": "stream",
     "text": [
      "['Пиво' 'Корма_1' 'Табак' 'Кофе' 'Конфеты' 'Сахар' 'Шоколад_1' 'Масло' nan]\n"
     ]
    }
   ],
   "source": [
    "# Наиболее продаваемая Lvl3 категория (Очень много пива)\n",
    "lvl3 = sales_data[['Store', 'Lvl3', 'Revenue']].groupby(['Store', 'Lvl3']).sum()\n",
    "lvl3 = lvl3.sort_values(by=['Store', 'Revenue'])\n",
    "\n",
    "for i in sales_data['Store'].unique():\n",
    "    # Вытаскиваем самую продаваемую категорию\n",
    "    most_lvl3 = lvl3.loc[lvl3['Revenue'] == lvl3.loc[i]['Revenue'].max()].index[0][1]\n",
    "    \n",
    "    # Засовываем в стор_дата\n",
    "    store_data.loc[store_data['Store'] == i, 'MostLvl3'] = most_lvl3\n",
    "print(store_data['MostLvl3'].unique())"
   ]
  },
  {
   "cell_type": "code",
   "execution_count": 211,
   "metadata": {},
   "outputs": [
    {
     "name": "stdout",
     "output_type": "stream",
     "text": [
      "count    102.000000\n",
      "mean     448.652429\n",
      "std      183.031461\n",
      "min        0.000000\n",
      "25%      361.823166\n",
      "50%      460.377933\n",
      "75%      552.849345\n",
      "max      935.366774\n",
      "Name: Revenue/S, dtype: float64\n"
     ]
    }
   ],
   "source": [
    "# Средний доход на квадрат (Один из важнейших финансовых показателей магазина)\n",
    "for i in sales_data['Store'].unique():\n",
    "    # Выделение временного дф для магазина\n",
    "    tmp_data = sales_data.loc[sales_data['Store'] == i]\n",
    "    # Подсчет средней суммы за три месяца\n",
    "    av_r = (tmp_data.loc[tmp_data['Date'] == '2016-02', 'Revenue'].sum() +\n",
    "            tmp_data.loc[tmp_data['Date'] == '2016-03', 'Revenue'].sum() +\n",
    "            tmp_data.loc[tmp_data['Date'] == '2016-04', 'Revenue'].sum()) / 3\n",
    "    # print(av_r)\n",
    "    \n",
    "    # Запишем данные в стор_дата\n",
    "    store_data.loc[store_data['Store'] == i, 'AverageRevenue'] = av_r\n",
    "# Разделим доход на площадь\n",
    "store_data['Revenue/S'] = store_data['AverageRevenue'] / store_data['Square']\n",
    "print(store_data['Revenue/S'].describe())"
   ]
  },
  {
   "cell_type": "code",
   "execution_count": 212,
   "metadata": {},
   "outputs": [
    {
     "name": "stdout",
     "output_type": "stream",
     "text": [
      "0      1789.0\n",
      "1      1805.0\n",
      "2      4744.0\n",
      "3      1800.0\n",
      "4      1821.0\n",
      "        ...  \n",
      "114    1525.0\n",
      "115    1513.0\n",
      "116    1562.0\n",
      "117    1529.0\n",
      "118    1524.0\n",
      "Name: DaysWorks, Length: 119, dtype: float64\n"
     ]
    }
   ],
   "source": [
    "import datetime as dt\n",
    "\n",
    "\n",
    "# Сколько дней работает магазин с открытия\n",
    "today = dt.datetime.now()\n",
    "store_data['DaysWorks'] = (today - store_data['Opening_Date']).dt.days\n",
    "print(store_data['DaysWorks'])"
   ]
  },
  {
   "cell_type": "code",
   "execution_count": 213,
   "metadata": {},
   "outputs": [
    {
     "name": "stdout",
     "output_type": "stream",
     "text": [
      "Количество магазинов, где Вина_1 имеют наибольшую представленность - 93\n"
     ]
    }
   ],
   "source": [
    "# Самая представленная Lvl3 категория (За исключением 10 магазинов, это везде вина. Не имеет смысла добавлять фичу)\n",
    "lvl3_represent = sales_data[['Store', 'Lvl3', 'Num_of_SKU_in_lvl']].groupby(['Store', 'Lvl3']).sum()\n",
    "lvl3_represent = lvl3_represent.sort_values(by=['Store', 'Num_of_SKU_in_lvl'])\n",
    "\n",
    "wines_count = 0\n",
    "for i in sales_data['Store'].unique():\n",
    "    # Вытаскиваем самую представленную категорию\n",
    "    most_lvl3_represent = lvl3_represent.loc[lvl3_represent['Num_of_SKU_in_lvl'] == lvl3_represent.loc[i]['Num_of_SKU_in_lvl'].max()].index[0][1]\n",
    "    if most_lvl3_represent == 'Вина_1':\n",
    "        wines_count += 1\n",
    "print('Количество магазинов, где Вина_1 имеют наибольшую представленность - {}'.format(wines_count))"
   ]
  },
  {
   "cell_type": "code",
   "execution_count": 216,
   "metadata": {},
   "outputs": [],
   "source": [
    "'''Время выполнения окна ~30 минут\n",
    "Класс населения можно охарактеризовать через разницу между средним и медианным значением. В данном случае\n",
    "довольно сложная ситуация, потому что необходимо анализировать данные по продажам в каждом магазине и категории,\n",
    "учитывая данные из других магазинов и категорий.\n",
    "'''\n",
    "import numpy as np\n",
    "\n",
    "\n",
    "# Получение общей колонки - средняя цена\n",
    "sales_data['av_price'] = sales_data['Revenue'].div(sales_data['Quantity_sold'].where(sales_data['Quantity_sold'] != 0, np.nan))\n",
    "\n",
    "# Группировка по категории и магазину\n",
    "klas_by_lvl = sales_data[['Lvl3', 'Store', 'av_price']].groupby(['Lvl3', 'Store']).mean()\n",
    "klas_by_lvl = klas.sort_values(by=['Store'])\n",
    "\n",
    "# Выделим среднее знач и медиану среди всех магазинов по категории. Сделаем дф на основе данных\n",
    "category_mean = []\n",
    "category_med = []\n",
    "categories = []\n",
    "qdown_lst = []\n",
    "qup_lst = []\n",
    "for i in sales_data['Lvl3'].unique():\n",
    "    categories.append(i)\n",
    "    category_mean.append(klas.loc[i].mean().iloc[0])\n",
    "    category_med.append(klas.loc[i].median().iloc[0])\n",
    "    qdown_lst.append(klas.loc[i].quantile(0.15).iloc[0])\n",
    "    qup_lst.append(klas.loc[i].quantile(0.85).iloc[0])\n",
    "    \n",
    "cat_df = pd.DataFrame({'Category': categories,\n",
    "                       'Mean': category_mean,\n",
    "                       'Median': category_med,\n",
    "                       'QDOWN': qdown_lst,\n",
    "                       'QUP': qup_lst})\n",
    "\n",
    "# Цикл для заполнения данных в sales_data\n",
    "time1 = dt.datetime.now()\n",
    "sales_data['Premium'] = [np.nan for i in range(len(sales_data))]\n",
    "for i in sales_data['Store'].unique():\n",
    "    for j in sales_data['Lvl3'].unique():\n",
    "        # Среднее, медиана и квантили категории\n",
    "        mean = cat_df.loc[cat_df['Category'] == j, 'Mean'].iloc[0]\n",
    "        median = cat_df.loc[cat_df['Category'] == j, 'Median'].iloc[0]\n",
    "        q_down = cat_df.loc[cat_df['Category'] == j, 'QDOWN'].iloc[0]\n",
    "        q_up = cat_df.loc[cat_df['Category'] == j, 'QUP'].iloc[0]\n",
    "        \n",
    "        # Реальное значение магазина в категории (try нужен, тк в некоторых магазинах нет некоторых категорий)\n",
    "        try:\n",
    "            real_value = sales_data.loc[(sales_data['Store'] == i) &\n",
    "                                        (sales_data['Lvl3'] == j), 'av_price'].mean()\n",
    "            # print('real_value - {}'.format(real_value))\n",
    "        except IndexError as error:\n",
    "            continue\n",
    "        \n",
    "        # Mean > med?\n",
    "        if mean > median:\n",
    "            premium = True\n",
    "        else:\n",
    "            premium = False\n",
    "        \n",
    "        # Теперь, в зависимости от положения real value относительно квантилей, проставим значения\n",
    "        if premium and (real_value > q_up):\n",
    "            sales_data.loc[(sales_data['Store'] == i) &\n",
    "                           (sales_data['Lvl3'] == j), 'Premium'] = 'Premium'\n",
    "        elif premium and (real_value < q_down):\n",
    "            sales_data.loc[(sales_data['Store'] == i) &\n",
    "                           (sales_data['Lvl3'] == j), 'Premium'] = 'Poor'\n",
    "        elif not premium and (real_value < q_down):\n",
    "            sales_data.loc[(sales_data['Store'] == i) &\n",
    "                           (sales_data['Lvl3'] == j), 'Premium'] = 'Poor'\n",
    "        elif not premium and (real_value > q_up):\n",
    "            sales_data.loc[(sales_data['Store'] == i) &\n",
    "                           (sales_data['Lvl3'] == j), 'Premium'] = 'Premium'\n",
    "        else:\n",
    "            sales_data.loc[(sales_data['Store'] == i) &\n",
    "                           (sales_data['Lvl3'] == j), 'Premium'] = 'Medium'"
   ]
  },
  {
   "cell_type": "code",
   "execution_count": 222,
   "metadata": {},
   "outputs": [
    {
     "name": "stdout",
     "output_type": "stream",
     "text": [
      "count    103.000000\n",
      "mean       0.154227\n",
      "std        0.098309\n",
      "min        0.025974\n",
      "25%        0.077922\n",
      "50%        0.129870\n",
      "75%        0.199981\n",
      "max        0.478261\n",
      "Name: Premium%, dtype: float64\n",
      "count    103.000000\n",
      "mean       0.152657\n",
      "std        0.099806\n",
      "min        0.012993\n",
      "25%        0.077922\n",
      "50%        0.129870\n",
      "75%        0.206460\n",
      "max        0.467476\n",
      "Name: Economy%, dtype: float64\n"
     ]
    }
   ],
   "source": [
    "# Из новой колонки можем выделить две фичи - процент \"премиум\" покупателей и процент \"экономных\" покупателей\n",
    "for i in sales_data['Store'].unique():\n",
    "    # Подсчет процента премиум и экономных покупателей\n",
    "    val_counts = sales_data.loc[sales_data['Store'] == i, 'Premium'].value_counts(normalize=True)\n",
    "    \n",
    "    # Запись данных в стор_дата\n",
    "    store_data.loc[store_data['Store'] == i, 'Premium%'] = val_counts['Premium']\n",
    "    store_data.loc[store_data['Store'] == i, 'Economy%'] = val_counts['Poor']\n",
    "print(store_data['Premium%'].describe())\n",
    "print(store_data['Economy%'].describe())"
   ]
  }
 ],
 "metadata": {
  "kernelspec": {
   "display_name": "Python 3",
   "language": "python",
   "name": "python3"
  },
  "language_info": {
   "codemirror_mode": {
    "name": "ipython",
    "version": 3
   },
   "file_extension": ".py",
   "mimetype": "text/x-python",
   "name": "python",
   "nbconvert_exporter": "python",
   "pygments_lexer": "ipython3",
   "version": "3.7.6"
  }
 },
 "nbformat": 4,
 "nbformat_minor": 4
}
